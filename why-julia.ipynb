{
 "cells": [
  {
   "cell_type": "code",
   "execution_count": null,
   "metadata": {
    "slideshow": {
     "slide_type": "skip"
    }
   },
   "outputs": [],
   "source": [
    "# # Check multithreading config:\n",
    "Base.Threads.nthreads()"
   ]
  },
  {
   "cell_type": "code",
   "execution_count": null,
   "metadata": {
    "slideshow": {
     "slide_type": "skip"
    }
   },
   "outputs": [],
   "source": [
    "# # Instantiate package environment for this notebook\n",
    "# using Pkg; pkg\"instantiate\""
   ]
  },
  {
   "cell_type": "code",
   "execution_count": null,
   "metadata": {
    "slideshow": {
     "slide_type": "skip"
    }
   },
   "outputs": [],
   "source": [
    "# # Check active package versions:\n",
    "# using Pkg; pkg\"status\""
   ]
  },
  {
   "cell_type": "markdown",
   "metadata": {
    "collapsed": true,
    "nbpresent": {
     "id": "7b7b849a-81ae-4985-92ec-78b66da75f5f"
    },
    "slideshow": {
     "slide_type": "slide"
    }
   },
   "source": [
    "<h1 style=\"text-align: center;\">\n",
    "    <span style=\"display: block; text-align: center;\">\n",
    "        Why\n",
    "    </span>\n",
    "    <span style=\"display: block; text-align: center;\">\n",
    "        <img alt=\"Julia\" src=\"images/logos/julia-logo.svg\" style=\"height: 2em; display: inline-block; margin: 1em;\"/>?\n",
    "    </span>\n",
    "    Motivation and comparison to other languages\n",
    "</h1>\n",
    "\n",
    "<div style=\"text-align: center;\">\n",
    "    <p style=\"text-align: center; display: inline-block; vertical-align: middle;\">\n",
    "        Oliver Schulz<br>\n",
    "        <small>\n",
    "            Max Planck Institute for Physics <br/>\n",
    "            <a href=\"mailto:oschulz@mpp.mpg.de\" target=\"_blank\">oschulz@mpp.mpg.de</a>\n",
    "        </small>\n",
    "    </p>\n",
    "    <p style=\"text-align: center; display: inline-block; vertical-align: middle;\">\n",
    "        <img src=\"images/logos/mpg-logo.svg\" style=\"height: 5em; display: inline-block; vertical-align: middle; margin: 1em;\"/>\n",
    "        <img src=\"images/logos/mpp-logo.svg\" style=\"height: 5em; display: inline-block; vertical-align: middle; margin: 1em;\"/>\n",
    "    </p>\n",
    "</div>\n",
    "\n",
    "<p style=\"text-align: center;\">\n",
    "     Julia for HEP Mini-workshop, September 27th 2021\n",
    "</p>"
   ]
  },
  {
   "cell_type": "markdown",
   "metadata": {
    "slideshow": {
     "slide_type": "slide"
    }
   },
   "source": [
    "## Why Julia?"
   ]
  },
  {
   "cell_type": "markdown",
   "metadata": {
    "slideshow": {
     "slide_type": "slide"
    }
   },
   "source": [
    "### Science needs code - but how to write it?\n",
    "\n",
    "* Choice of programming language(s) matter!\n",
    "\n",
    "* Need to balance:\n",
    "    * Learning time\n",
    "    * Productivity\n",
    "    * Performance\n",
    "\n",
    "* Usually involves compromises"
   ]
  },
  {
   "cell_type": "markdown",
   "metadata": {
    "slideshow": {
     "slide_type": "slide"
    }
   },
   "source": [
    "### Programming Language Options\n",
    "\n",
    "* C++:\n",
    "    * Pro: Very fast (in expert hands)\n",
    "    * Pro: Really cool new concepts (even literally) in C++11/14/17/...\n",
    "    * Con: Complex, takes long time to learn and much longer to master\n",
    "    * Con: Straightforward tasks often result in lengthy code\n",
    "    * Con: No memory management (General protection faults)  \n",
    "    * Con: No universal package management\n",
    "    * Con: Composability isn't great\n",
    "    * Con: C++ job market now focused on true experts"
   ]
  },
  {
   "cell_type": "markdown",
   "metadata": {
    "slideshow": {
     "slide_type": "slide"
    }
   },
   "source": [
    "### Programming Language Options\n",
    "\n",
    "* Python:\n",
    "    * Pro: Broad user base, popular first programming language\n",
    "    * Pro: Easy to learn, good standard library\n",
    "    * Con: Can't write time-critical loops in Python,  \n",
    "      workarounds like Numba/Cython have\n",
    "      [many limitations](http://www.stochasticlifestyle.com/why-numba-and-cython-are-not-substitutes-for-julia/),  \n",
    "      don't compose well\n",
    "    * Con: Language itself fairly primitive, not very expressive\n",
    "    * Con: Duck-Typing necessitates lots of test code\n",
    "    * Con: No effective multi-threading\n",
    "    * Con: Composability isn't great"
   ]
  },
  {
   "cell_type": "markdown",
   "metadata": {
    "slideshow": {
     "slide_type": "slide"
    }
   },
   "source": [
    "### What else is there?\n",
    "\n",
    "* Fortran:\n",
    "    * Pro: Math can be really fast\n",
    "    * Con: Old language, few modern concepts\n",
    "    * Con: Shrinking user base\n",
    "    * Con: Composability isn't great\n",
    "    * Con: Little support for generic programming, GPUs, ...\n",
    "    * Do you *really* want to ...?\n",
    "\n",
    "\n",
    "* Scala, Go, Kotlin etc.:\n",
    "    * Pro: Lots of individual strengths\n",
    "    * Con: Math either fast *or* generic *or* or complicated\n",
    "    * Con: Calling C, Fortran or Phython code often difficult\n",
    "    * Con: Composability isn't great"
   ]
  },
  {
   "cell_type": "markdown",
   "metadata": {
    "slideshow": {
     "slide_type": "slide"
    }
   },
   "source": [
    "### The 97 and the 3 Percent\n",
    "\n",
    "> We should forget about small efficiencies, say about 97% of the time: *premature optimization is the root of all evil. Yet we should not pass up our opportunities in that critical 3%*.\n",
    "\n",
    "Donald E. Knuth\n",
    "\n",
    "* Some programming languages (e.g. Python) great for the 97% - but can't make the 3% fast.\n",
    "* Some other languages (e.g. C/C++, Fortran) can handle the 3% - but makes the 97% complicated."
   ]
  },
  {
   "cell_type": "markdown",
   "metadata": {
    "slideshow": {
     "slide_type": "slide"
    }
   },
   "source": [
    "### The Two-language Problem\n",
    "\n",
    "* Common approach nowadays:  \n",
    "  Write time critical code in C/C++, rest in Python\n",
    "\n",
    "* Pro: End-user can code comfortably in Python, with good performance\n",
    "\n",
    "* Con: Complexity of C/C++ **plus** complexity of Python\n",
    "\n",
    "* Con: Need proficiency in **two** languages, barrier that prevents  \n",
    "  non-expert users from contributing to important parts of code\n",
    "\n",
    "* Con: Limits generic implementation of algorithms\n",
    "\n",
    "* Con: Severely limits metaprogramming, automatic differentiation, etc."
   ]
  },
  {
   "cell_type": "markdown",
   "metadata": {
    "slideshow": {
     "slide_type": "slide"
    }
   },
   "source": [
    "## The Expression Problem\n",
    "\n",
    "> The expression problem is a new name for an old problem. The goal is to define a datatype by cases, where one can add new cases to the datatype and new functions over the datatype, without recompiling existing code, and while retaining static type safety (e.g., no casts).\n",
    "\n",
    "Philip Wadler\n",
    "\n",
    "* In other words: The capability to add both new subtypes and new functionality for a type defined in a package you don't own\n",
    "* Object oriented languages typically can't do this  \n",
    "  (Ruby has a dirty way, Scala a clean workaround)\n",
    "* If you have programming experience, you have felt this, even if you didn't name it\n",
    "* Result: Packages tend not to compose well\n"
   ]
  },
  {
   "cell_type": "markdown",
   "metadata": {
    "slideshow": {
     "slide_type": "slide"
    }
   },
   "source": [
    "### We'd like to have a language ...\n",
    "\n",
    "* as fast as C/C++/Fortran\n",
    "* as easy to learn and productive as Python\n",
    "* with a solution for the expression problem\n",
    "* with first class math support (vectors, matrices, etc.)\n",
    "* with true functional programming\n",
    "* with great Fortran/C/C++/Python integration\n",
    "* with true metaprogramming (like Lisp or Scala)\n",
    "* good at parallel and distributed programming\n",
    "* suitable for for interactive, small and large applications"
   ]
  },
  {
   "cell_type": "markdown",
   "metadata": {
    "slideshow": {
     "slide_type": "slide"
    }
   },
   "source": [
    "### Julia\n",
    "\n",
    "* Designed for scientific/technical computing\n",
    "* Originated at MIT, first public version 2012\n",
    "* Covers the whole wish-list\n",
    "* Clear focus on user productivity and software quality\n",
    "* Rapid growth of user base and software packages\n",
    "* Current version: Julia v1.6 (v1.7 will be out soon)"
   ]
  },
  {
   "cell_type": "markdown",
   "metadata": {
    "nbpresent": {
     "id": "b6763142-7446-43bf-a8a3-e7af798914d0"
    },
    "slideshow": {
     "slide_type": "slide"
    }
   },
   "source": [
    "### Julia Language Properties\n",
    "\n",
    "* Fast: JAOT compilation to native CPU and GPU code\n",
    "* Multiple-dispatch (more powerful than object-oriented):  \n",
    "  solves the expression problem\n",
    "* Dynamically typed\n",
    "* Very powerful type system, types are first-class values\n",
    "* Functional programming and metaprogramming\n",
    "* First-class math support (like Fortran or Matlab)\n",
    "* ..."
   ]
  },
  {
   "cell_type": "markdown",
   "metadata": {
    "slideshow": {
     "slide_type": "slide"
    }
   },
   "source": [
    "### Julia Language Properties, cont.\n",
    "\n",
    "* ...\n",
    "* Local and distributed code execution\n",
    "* State-of-the-art multi-threading: parallel code  \n",
    "  can call parallel code that can call parallel code, ...,  \n",
    "  without oversubscribing threads\n",
    "* Software package management:  \n",
    "  Trivial to create and install packages\n",
    "* Excellent REPL (console)\n",
    "* Easy to call Fortran, C/C++ and Python code"
   ]
  },
  {
   "cell_type": "markdown",
   "metadata": {
    "slideshow": {
     "slide_type": "slide"
    }
   },
   "source": [
    "### Julia large-scale use case examples\n",
    "\n",
    "* Celeste: Variational Bayesian inference for astronomical images (doi:10.1214/19-AOAS1258), \n",
    "1.54 petaflops using 1.3 million threads on 9,300 Knights Landing (KNL) nodes on Cori at NERSC\n",
    "\n",
    "* Clima: Full-earth climate simulation, https://clima.caltech.edu, large team, uses everything from MPI to GPUs\n",
    "\n",
    "* ...\n"
   ]
  },
  {
   "cell_type": "markdown",
   "metadata": {
    "slideshow": {
     "slide_type": "slide"
    }
   },
   "source": [
    "### When (not) to use Julia\n",
    "\n",
    "* *Do* use Julia for computations, visualization, data processing ... pretty much anything scientific/technical\n",
    "\n",
    "* *Do not* use Julia for scripts what will only run for a second (code gen overhead), use Python or shell scripts\n",
    "\n",
    "* *Do not* use Julia for non-computing web apps, etc. (*at least not yet*), use Go or Node.js"
   ]
  },
  {
   "cell_type": "markdown",
   "metadata": {
    "slideshow": {
     "slide_type": "slide"
    }
   },
   "source": [
    "### C/C++/Fortran-level speed"
   ]
  },
  {
   "cell_type": "code",
   "execution_count": 4,
   "metadata": {},
   "outputs": [
    {
     "name": "stdout",
     "output_type": "stream",
     "text": [
      "\t\u001b[0m.text\n",
      "\t\u001b[96m\u001b[1mmovq\u001b[22m\u001b[39m\t\u001b[33m8\u001b[39m\u001b[33m(\u001b[39m\u001b[0m%rdi\u001b[33m)\u001b[39m\u001b[0m, \u001b[0m%rax\n",
      "\t\u001b[96m\u001b[1mtestq\u001b[22m\u001b[39m\t\u001b[0m%rax\u001b[0m, \u001b[0m%rax\n",
      "\t\u001b[96m\u001b[1mje\u001b[22m\u001b[39m\t\u001b[91mL26\u001b[39m\n",
      "\t\u001b[96m\u001b[1mmovq\u001b[22m\u001b[39m\t\u001b[33m(\u001b[39m\u001b[0m%rdi\u001b[33m)\u001b[39m\u001b[0m, \u001b[0m%rcx\n",
      "\t\u001b[96m\u001b[1mcmpq\u001b[22m\u001b[39m\t\u001b[33m$16\u001b[39m\u001b[0m, \u001b[0m%rax\n",
      "\t\u001b[96m\u001b[1mjae\u001b[22m\u001b[39m\t\u001b[91mL31\u001b[39m\n",
      "\t\u001b[96m\u001b[1mvxorpd\u001b[22m\u001b[39m\t\u001b[0m%xmm0\u001b[0m, \u001b[0m%xmm0\u001b[0m, \u001b[0m%xmm0\n",
      "\t\u001b[96m\u001b[1mxorl\u001b[22m\u001b[39m\t\u001b[0m%edx\u001b[0m, \u001b[0m%edx\n",
      "\t\u001b[96m\u001b[1mjmp\u001b[22m\u001b[39m\t\u001b[91mL144\u001b[39m\n",
      "\u001b[91mL26:\u001b[39m\n",
      "\t\u001b[96m\u001b[1mvxorps\u001b[22m\u001b[39m\t\u001b[0m%xmm0\u001b[0m, \u001b[0m%xmm0\u001b[0m, \u001b[0m%xmm0\n",
      "\t\u001b[96m\u001b[1mretq\u001b[22m\u001b[39m\n",
      "\u001b[91mL31:\u001b[39m\n",
      "\t\u001b[96m\u001b[1mmovq\u001b[22m\u001b[39m\t\u001b[0m%rax\u001b[0m, \u001b[0m%rdx\n",
      "\t\u001b[96m\u001b[1mandq\u001b[22m\u001b[39m\t\u001b[33m$-16\u001b[39m\u001b[0m, \u001b[0m%rdx\n",
      "\t\u001b[96m\u001b[1mvxorpd\u001b[22m\u001b[39m\t\u001b[0m%xmm0\u001b[0m, \u001b[0m%xmm0\u001b[0m, \u001b[0m%xmm0\n",
      "\t\u001b[96m\u001b[1mxorl\u001b[22m\u001b[39m\t\u001b[0m%esi\u001b[0m, \u001b[0m%esi\n",
      "\t\u001b[96m\u001b[1mvxorpd\u001b[22m\u001b[39m\t\u001b[0m%xmm1\u001b[0m, \u001b[0m%xmm1\u001b[0m, \u001b[0m%xmm1\n",
      "\t\u001b[96m\u001b[1mvxorpd\u001b[22m\u001b[39m\t\u001b[0m%xmm2\u001b[0m, \u001b[0m%xmm2\u001b[0m, \u001b[0m%xmm2\n",
      "\t\u001b[96m\u001b[1mvxorpd\u001b[22m\u001b[39m\t\u001b[0m%xmm3\u001b[0m, \u001b[0m%xmm3\u001b[0m, \u001b[0m%xmm3\n",
      "\t\u001b[96m\u001b[1mnopl\u001b[22m\u001b[39m\t\u001b[33m(\u001b[39m\u001b[0m%rax\u001b[0m,\u001b[0m%rax\u001b[33m)\u001b[39m\n",
      "\u001b[91mL64:\u001b[39m\n",
      "\t\u001b[96m\u001b[1mvaddpd\u001b[22m\u001b[39m\t\u001b[33m(\u001b[39m\u001b[0m%rcx\u001b[0m,\u001b[0m%rsi\u001b[0m,\u001b[33m8\u001b[39m\u001b[33m)\u001b[39m\u001b[0m, \u001b[0m%ymm0\u001b[0m, \u001b[0m%ymm0\n",
      "\t\u001b[96m\u001b[1mvaddpd\u001b[22m\u001b[39m\t\u001b[33m32\u001b[39m\u001b[33m(\u001b[39m\u001b[0m%rcx\u001b[0m,\u001b[0m%rsi\u001b[0m,\u001b[33m8\u001b[39m\u001b[33m)\u001b[39m\u001b[0m, \u001b[0m%ymm1\u001b[0m, \u001b[0m%ymm1\n",
      "\t\u001b[96m\u001b[1mvaddpd\u001b[22m\u001b[39m\t\u001b[33m64\u001b[39m\u001b[33m(\u001b[39m\u001b[0m%rcx\u001b[0m,\u001b[0m%rsi\u001b[0m,\u001b[33m8\u001b[39m\u001b[33m)\u001b[39m\u001b[0m, \u001b[0m%ymm2\u001b[0m, \u001b[0m%ymm2\n",
      "\t\u001b[96m\u001b[1mvaddpd\u001b[22m\u001b[39m\t\u001b[33m96\u001b[39m\u001b[33m(\u001b[39m\u001b[0m%rcx\u001b[0m,\u001b[0m%rsi\u001b[0m,\u001b[33m8\u001b[39m\u001b[33m)\u001b[39m\u001b[0m, \u001b[0m%ymm3\u001b[0m, \u001b[0m%ymm3\n",
      "\t\u001b[96m\u001b[1maddq\u001b[22m\u001b[39m\t\u001b[33m$16\u001b[39m\u001b[0m, \u001b[0m%rsi\n",
      "\t\u001b[96m\u001b[1mcmpq\u001b[22m\u001b[39m\t\u001b[0m%rsi\u001b[0m, \u001b[0m%rdx\n",
      "\t\u001b[96m\u001b[1mjne\u001b[22m\u001b[39m\t\u001b[91mL64\u001b[39m\n",
      "\t\u001b[96m\u001b[1mvaddpd\u001b[22m\u001b[39m\t\u001b[0m%ymm0\u001b[0m, \u001b[0m%ymm1\u001b[0m, \u001b[0m%ymm0\n",
      "\t\u001b[96m\u001b[1mvaddpd\u001b[22m\u001b[39m\t\u001b[0m%ymm0\u001b[0m, \u001b[0m%ymm2\u001b[0m, \u001b[0m%ymm0\n",
      "\t\u001b[96m\u001b[1mvaddpd\u001b[22m\u001b[39m\t\u001b[0m%ymm0\u001b[0m, \u001b[0m%ymm3\u001b[0m, \u001b[0m%ymm0\n",
      "\t\u001b[96m\u001b[1mvextractf128\u001b[22m\u001b[39m\t\u001b[33m$1\u001b[39m\u001b[0m, \u001b[0m%ymm0\u001b[0m, \u001b[0m%xmm1\n",
      "\t\u001b[96m\u001b[1mvaddpd\u001b[22m\u001b[39m\t\u001b[0m%xmm1\u001b[0m, \u001b[0m%xmm0\u001b[0m, \u001b[0m%xmm0\n",
      "\t\u001b[96m\u001b[1mvpermilpd\u001b[22m\u001b[39m\t\u001b[33m$1\u001b[39m\u001b[0m, \u001b[0m%xmm0\u001b[0m, \u001b[0m%xmm1        \u001b[90m# xmm1 = xmm0[1,0]\u001b[39m\n",
      "\t\u001b[96m\u001b[1mvaddsd\u001b[22m\u001b[39m\t\u001b[0m%xmm1\u001b[0m, \u001b[0m%xmm0\u001b[0m, \u001b[0m%xmm0\n",
      "\t\u001b[96m\u001b[1mcmpq\u001b[22m\u001b[39m\t\u001b[0m%rdx\u001b[0m, \u001b[0m%rax\n",
      "\t\u001b[96m\u001b[1mje\u001b[22m\u001b[39m\t\u001b[91mL157\u001b[39m\n",
      "\t\u001b[96m\u001b[1mnopw\u001b[22m\u001b[39m\t\u001b[0m%cs\u001b[0m:\u001b[33m(\u001b[39m\u001b[0m%rax\u001b[0m,\u001b[0m%rax\u001b[33m)\u001b[39m\n",
      "\u001b[91mL144:\u001b[39m\n",
      "\t\u001b[96m\u001b[1mvaddsd\u001b[22m\u001b[39m\t\u001b[33m(\u001b[39m\u001b[0m%rcx\u001b[0m,\u001b[0m%rdx\u001b[0m,\u001b[33m8\u001b[39m\u001b[33m)\u001b[39m\u001b[0m, \u001b[0m%xmm0\u001b[0m, \u001b[0m%xmm0\n",
      "\t\u001b[96m\u001b[1mincq\u001b[22m\u001b[39m\t\u001b[0m%rdx\n",
      "\t\u001b[96m\u001b[1mcmpq\u001b[22m\u001b[39m\t\u001b[0m%rdx\u001b[0m, \u001b[0m%rax\n",
      "\t\u001b[96m\u001b[1mjne\u001b[22m\u001b[39m\t\u001b[91mL144\u001b[39m\n",
      "\u001b[91mL157:\u001b[39m\n",
      "\t\u001b[96m\u001b[1mvzeroupper\u001b[22m\u001b[39m\n",
      "\t\u001b[96m\u001b[1mretq\u001b[22m\u001b[39m\n",
      "\t\u001b[96m\u001b[1mnopw\u001b[22m\u001b[39m\t\u001b[0m%cs\u001b[0m:\u001b[33m(\u001b[39m\u001b[0m%rax\u001b[0m,\u001b[0m%rax\u001b[33m)\u001b[39m\n"
     ]
    }
   ],
   "source": [
    "function mysum(A)\n",
    "    s::eltype(A) = 0\n",
    "    @inbounds @simd for x in A; s += x; end\n",
    "    return s\n",
    "end\n",
    "\n",
    "@code_native debuginfo=:none mysum(rand(10^5))"
   ]
  },
  {
   "cell_type": "markdown",
   "metadata": {
    "slideshow": {
     "slide_type": "slide"
    }
   },
   "source": [
    "### Packages compose due to multiple dispatch"
   ]
  },
  {
   "cell_type": "code",
   "execution_count": 8,
   "metadata": {},
   "outputs": [
    {
     "data": {
      "text/plain": [
       "5.0 m s^-1"
      ]
     },
     "execution_count": 8,
     "metadata": {},
     "output_type": "execute_result"
    }
   ],
   "source": [
    "using Unitful\n",
    "a = 5.0u\"m/s\""
   ]
  },
  {
   "cell_type": "code",
   "execution_count": 7,
   "metadata": {},
   "outputs": [
    {
     "data": {
      "text/plain": [
       "8"
      ]
     },
     "execution_count": 7,
     "metadata": {},
     "output_type": "execute_result"
    }
   ],
   "source": [
    "sizeof(a)"
   ]
  },
  {
   "cell_type": "code",
   "execution_count": 10,
   "metadata": {},
   "outputs": [
    {
     "data": {
      "text/latex": [
       "$6.32 \\pm 0.16$"
      ],
      "text/plain": [
       "6.32 ± 0.16"
      ]
     },
     "execution_count": 10,
     "metadata": {},
     "output_type": "execute_result"
    }
   ],
   "source": [
    "using Measurements\n",
    "sqrt(40 ± 2)"
   ]
  },
  {
   "cell_type": "markdown",
   "metadata": {},
   "source": [
    "`Unitful` and `Measurements` do \"don't know\" each other (no dependency between them), and yet:"
   ]
  },
  {
   "cell_type": "code",
   "execution_count": 11,
   "metadata": {},
   "outputs": [
    {
     "data": {
      "text/plain": [
       "2.236 ± 0.022 m^1/2 s^-1/2"
      ]
     },
     "execution_count": 11,
     "metadata": {},
     "output_type": "execute_result"
    }
   ],
   "source": [
    "sqrt(5.0u\"m/s\" ± 0.1u\"m/s\")"
   ]
  },
  {
   "cell_type": "markdown",
   "metadata": {
    "slideshow": {
     "slide_type": "slide"
    }
   },
   "source": [
    "### Types are first-class values\n",
    "\n",
    "Can pass types are function arguments, can calculate with types (without runtime reflection!):"
   ]
  },
  {
   "cell_type": "code",
   "execution_count": 16,
   "metadata": {},
   "outputs": [
    {
     "data": {
      "text/plain": [
       "Float64"
      ]
     },
     "execution_count": 16,
     "metadata": {},
     "output_type": "execute_result"
    }
   ],
   "source": [
    "function precise_sum(A)\n",
    "    R = widen(eltype(A))\n",
    "    s::R = 0\n",
    "    @inbounds @simd for x in A; s += x; end\n",
    "    return s\n",
    "end\n",
    "\n",
    "typeof(precise_sum(randn(Float32, 10^6)))"
   ]
  },
  {
   "cell_type": "markdown",
   "metadata": {
    "slideshow": {
     "slide_type": "slide"
    }
   },
   "source": [
    "### Type hierarchy extends down to primitive types\n",
    "\n",
    "Enables easy generic programming:"
   ]
  },
  {
   "cell_type": "code",
   "execution_count": 19,
   "metadata": {},
   "outputs": [
    {
     "data": {
      "text/plain": [
       "true"
      ]
     },
     "execution_count": 19,
     "metadata": {},
     "output_type": "execute_result"
    }
   ],
   "source": [
    "Float64 <: AbstractFloat <: Real <: Number <: Any"
   ]
  },
  {
   "cell_type": "markdown",
   "metadata": {},
   "source": [
    "Quite hard to express in other languages:"
   ]
  },
  {
   "cell_type": "code",
   "execution_count": 21,
   "metadata": {},
   "outputs": [
    {
     "data": {
      "text/plain": [
       "(1764, 9.534449531975872e-5)"
      ]
     },
     "execution_count": 21,
     "metadata": {},
     "output_type": "execute_result"
    }
   ],
   "source": [
    "using LinearAlgebra\n",
    "foo(x::Real) = x^2\n",
    "foo(A::AbstractArray{<:Real}) = foo(det(A))\n",
    "\n",
    "foo(42), foo(rand(5, 5))"
   ]
  },
  {
   "cell_type": "markdown",
   "metadata": {
    "slideshow": {
     "slide_type": "slide"
    }
   },
   "source": [
    "### Julia can glue languages together\n",
    "\n",
    "Zero-overhead C and Fortran calls, inline Python, R, Matlab, C++ (Julia v1.3)"
   ]
  },
  {
   "cell_type": "code",
   "execution_count": 28,
   "metadata": {},
   "outputs": [
    {
     "data": {
      "text/plain": [
       "Vector{Float64} (alias for Array{Float64, 1})"
      ]
     },
     "execution_count": 28,
     "metadata": {},
     "output_type": "execute_result"
    }
   ],
   "source": [
    "using PyCall\n",
    "\n",
    "np = pyimport_conda(\"numpy\", \"numpy\")\n",
    "\n",
    "typeof(np.random.rand(100))"
   ]
  },
  {
   "cell_type": "code",
   "execution_count": 35,
   "metadata": {},
   "outputs": [],
   "source": [
    "A = rand(10^6)\n",
    "r = py\"\"\"\n",
    "import numpy as np\n",
    "print(np.sum($A))\n",
    "\"\"\""
   ]
  },
  {
   "cell_type": "markdown",
   "metadata": {
    "slideshow": {
     "slide_type": "slide"
    }
   },
   "source": [
    "### Automatic Differentiation"
   ]
  },
  {
   "cell_type": "code",
   "execution_count": 42,
   "metadata": {
    "slideshow": {
     "slide_type": "slide"
    }
   },
   "outputs": [
    {
     "data": {
      "text/plain": [
       "5×5 Matrix{Float64}:\n",
       " 2.16695  0.916992  3.32997  1.91845  2.21835\n",
       " 2.44831  1.03606   3.76234  2.16755  2.50639\n",
       " 3.13557  1.32688   4.81845  2.77599  3.20994\n",
       " 1.95584  0.827654  3.00555  1.73155  2.00223\n",
       " 1.04714  0.443121  1.60915  0.92706  1.07198"
      ]
     },
     "execution_count": 42,
     "metadata": {},
     "output_type": "execute_result"
    }
   ],
   "source": [
    "struct DenseLayer{M<:AbstractMatrix{<:Real},V<:AbstractVector{<:Real},F<:Function} <: Function\n",
    "    A::M\n",
    "    b::V\n",
    "    f::F\n",
    "end \n",
    "\n",
    "(l::DenseLayer)(x::AbstractVector{<:Real}) = (l.f).(l.A * x + l.b)\n",
    "\n",
    "f_loss(y) = sum(y .^ 2);\n",
    "\n",
    "mylayer = DenseLayer(rand(5,5), rand(5), x -> ifelse(x > zero(x), x, zero(x)))\n",
    "x = rand(5)\n",
    "\n",
    "using Zygote\n",
    "g = Zygote.gradient((mylayer, x) -> f_loss(mylayer(x)), mylayer, x)\n",
    "g[1].A"
   ]
  },
  {
   "cell_type": "markdown",
   "metadata": {
    "slideshow": {
     "slide_type": "slide"
    }
   },
   "source": [
    "### GPU Computing\n",
    "\n",
    "Julia code can compile natively to GPUs:"
   ]
  },
  {
   "cell_type": "code",
   "execution_count": 43,
   "metadata": {},
   "outputs": [],
   "source": [
    "using CUDA"
   ]
  },
  {
   "cell_type": "code",
   "execution_count": 47,
   "metadata": {},
   "outputs": [
    {
     "data": {
      "text/plain": [
       "5×5 CuArray{Float32, 2, CUDA.Mem.DeviceBuffer}:\n",
       " 0.120834   1.64269   2.22928   1.02623   0.879836\n",
       " 0.102      1.38666   1.88183   0.866279  0.742705\n",
       " 0.0942255  1.28096   1.73838   0.800247  0.686092\n",
       " 0.156132   2.12255   2.88051   1.32601   1.13686\n",
       " 0.0504331  0.685619  0.930451  0.428323  0.367223"
      ]
     },
     "execution_count": 47,
     "metadata": {},
     "output_type": "execute_result"
    }
   ],
   "source": [
    "mylayer = DenseLayer(cu(rand(5,5)), cu(rand(5)), x -> ifelse(x > zero(x), x, zero(x)))\n",
    "x = cu(rand(5))\n",
    "Zygote.gradient((mylayer, x) -> f_loss(mylayer(x)), mylayer, x)[1].A"
   ]
  },
  {
   "cell_type": "markdown",
   "metadata": {
    "slideshow": {
     "slide_type": "slide"
    }
   },
   "source": [
    "### Last but not least\n",
    "\n",
    "* Awesome package management with built-in reproducability (unique)\n",
    "* User-friendly introspection and perf-opt tooling\n",
    "* Welcoming, talented and science-heavy community\n",
    "* no BDFL"
   ]
  },
  {
   "cell_type": "markdown",
   "metadata": {
    "slideshow": {
     "slide_type": "slide"
    }
   },
   "source": [
    "## Final Remarks\n",
    "\n",
    "* Julia is productive, fast and fun - give it a chance!\n",
    "\n",
    "* Multiple dispatch opens up powerful ways of combining code\n",
    "\n",
    "* Awesome support for generic programming, heterogenous computing, automatic differentiation, ..."
   ]
  }
 ],
 "metadata": {
  "@webio": {
   "lastCommId": null,
   "lastKernelId": null
  },
  "celltoolbar": "Slideshow",
  "hide_input": false,
  "kernelspec": {
   "display_name": "Julia 1.7.0-beta4",
   "language": "julia",
   "name": "julia-1.7"
  },
  "language_info": {
   "file_extension": ".jl",
   "mimetype": "application/julia",
   "name": "julia",
   "version": "1.7.0"
  },
  "livereveal": {
   "start_slideshow_at": "selected",
   "theme": "simple",
   "transition": "none"
  },
  "nbpresent": {
   "slides": {},
   "themes": {}
  },
  "toc": {
   "base_numbering": 1,
   "nav_menu": {},
   "number_sections": false,
   "sideBar": true,
   "skip_h1_title": false,
   "title_cell": "Table of Contents",
   "title_sidebar": "Contents",
   "toc_cell": false,
   "toc_position": {},
   "toc_section_display": true,
   "toc_window_display": false
  }
 },
 "nbformat": 4,
 "nbformat_minor": 2
}
